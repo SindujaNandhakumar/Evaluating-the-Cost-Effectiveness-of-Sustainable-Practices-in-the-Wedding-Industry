{
 "cells": [
  {
   "cell_type": "markdown",
   "id": "b48e4b87",
   "metadata": {},
   "source": [
    "# Business Question:\n",
    "\n",
    "**Are wedding vendors with sustainable practices more cost effective?**\n",
    "     In the ever-evolving wedding industry, a pressing issue arises. This investigation tackles a key challenge for businesses in this field. While sustainability gains prominence—adopting eco-friendly materials, ethical labor, and environmentally conscious practices—businesses also pursue competitiveness, viability, and profitability.\n",
    "\n",
    "**Sustainability**:In business primarily centers on two key areas: the environmental impact of operations and their societal influence. The primary goal is to foster positive impacts in at least one of these \n",
    "realms. Yet, neglecting this responsibility can lead to adverse outcomes, including environmental harm, societal inequalities, and injustices.s (Spiliakos, 2022)\n",
    "\n",
    "\n",
    "**Cost_effectiveness**:Cost efficiencies aim to cut expenses without compromising quality. This involves comparing output benefits to input costs. Assessing revenue versus expenses reveals areas for savings and efficiency enhancements in your organization.(indeed, 2022) \n",
    "\n",
    "Balancing sustainability with financial viability is challenging. Despite aligning with ethical and environmental aims, concerns surface about their cost impact. The key issue is whether sustainable methods raise production costs, impacting pricing and competitiveness.\n",
    "\n",
    "It's more than just cost analysis—it's about merging environmental responsibility with financial sustainability. Striking a balance is crucial for wedding vendors' success in an aware market.\n",
    "\n",
    "\n"
   ]
  },
  {
   "cell_type": "markdown",
   "id": "50a58d47",
   "metadata": {},
   "source": [
    "# Analysis"
   ]
  },
  {
   "cell_type": "code",
   "execution_count": 54,
   "id": "1c1342e4",
   "metadata": {},
   "outputs": [
    {
     "data": {
      "text/html": [
       "<div>\n",
       "<style scoped>\n",
       "    .dataframe tbody tr th:only-of-type {\n",
       "        vertical-align: middle;\n",
       "    }\n",
       "\n",
       "    .dataframe tbody tr th {\n",
       "        vertical-align: top;\n",
       "    }\n",
       "\n",
       "    .dataframe thead th {\n",
       "        text-align: right;\n",
       "    }\n",
       "</style>\n",
       "<table border=\"1\" class=\"dataframe\">\n",
       "  <thead>\n",
       "    <tr style=\"text-align: right;\">\n",
       "      <th></th>\n",
       "      <th>vendor_id</th>\n",
       "      <th>vendor_category_no</th>\n",
       "      <th>vendor_depart</th>\n",
       "      <th>vendor_location</th>\n",
       "      <th>vendor_sustainable</th>\n",
       "      <th>product_id</th>\n",
       "      <th>price_unit</th>\n",
       "      <th>rating</th>\n",
       "      <th>price_ce</th>\n",
       "      <th>Is_cost_effective</th>\n",
       "    </tr>\n",
       "  </thead>\n",
       "  <tbody>\n",
       "    <tr>\n",
       "      <th>0</th>\n",
       "      <td>ven_01</td>\n",
       "      <td>9</td>\n",
       "      <td>venues</td>\n",
       "      <td>san ramon</td>\n",
       "      <td>1</td>\n",
       "      <td>prod_001</td>\n",
       "      <td>14000.0</td>\n",
       "      <td>4.8</td>\n",
       "      <td>2</td>\n",
       "      <td>Yes</td>\n",
       "    </tr>\n",
       "    <tr>\n",
       "      <th>1</th>\n",
       "      <td>ven_02</td>\n",
       "      <td>9</td>\n",
       "      <td>venues</td>\n",
       "      <td>acampo</td>\n",
       "      <td>1</td>\n",
       "      <td>prod_002</td>\n",
       "      <td>9500.0</td>\n",
       "      <td>4.1</td>\n",
       "      <td>1</td>\n",
       "      <td>Yes</td>\n",
       "    </tr>\n",
       "    <tr>\n",
       "      <th>2</th>\n",
       "      <td>ven_03</td>\n",
       "      <td>9</td>\n",
       "      <td>venues</td>\n",
       "      <td>hollister</td>\n",
       "      <td>1</td>\n",
       "      <td>prod_003</td>\n",
       "      <td>27000.0</td>\n",
       "      <td>4.8</td>\n",
       "      <td>2</td>\n",
       "      <td>Yes</td>\n",
       "    </tr>\n",
       "    <tr>\n",
       "      <th>3</th>\n",
       "      <td>ven_04</td>\n",
       "      <td>9</td>\n",
       "      <td>venues</td>\n",
       "      <td>half moon bay</td>\n",
       "      <td>1</td>\n",
       "      <td>prod_004</td>\n",
       "      <td>16000.0</td>\n",
       "      <td>4.9</td>\n",
       "      <td>2</td>\n",
       "      <td>Yes</td>\n",
       "    </tr>\n",
       "    <tr>\n",
       "      <th>4</th>\n",
       "      <td>ven_05</td>\n",
       "      <td>9</td>\n",
       "      <td>venues</td>\n",
       "      <td>san francisco</td>\n",
       "      <td>1</td>\n",
       "      <td>prod_005</td>\n",
       "      <td>24000.0</td>\n",
       "      <td>4.8</td>\n",
       "      <td>2</td>\n",
       "      <td>Yes</td>\n",
       "    </tr>\n",
       "    <tr>\n",
       "      <th>5</th>\n",
       "      <td>ven_06</td>\n",
       "      <td>9</td>\n",
       "      <td>venues</td>\n",
       "      <td>pleasanton</td>\n",
       "      <td>1</td>\n",
       "      <td>prod_006</td>\n",
       "      <td>10000.0</td>\n",
       "      <td>4.9</td>\n",
       "      <td>2</td>\n",
       "      <td>Yes</td>\n",
       "    </tr>\n",
       "    <tr>\n",
       "      <th>6</th>\n",
       "      <td>ven_07</td>\n",
       "      <td>9</td>\n",
       "      <td>venues</td>\n",
       "      <td>walnut creek</td>\n",
       "      <td>1</td>\n",
       "      <td>prod_007</td>\n",
       "      <td>18500.0</td>\n",
       "      <td>0.0</td>\n",
       "      <td>3</td>\n",
       "      <td>No</td>\n",
       "    </tr>\n",
       "    <tr>\n",
       "      <th>7</th>\n",
       "      <td>ven_08</td>\n",
       "      <td>9</td>\n",
       "      <td>venues</td>\n",
       "      <td>oakland</td>\n",
       "      <td>0</td>\n",
       "      <td>prod_008</td>\n",
       "      <td>15000.0</td>\n",
       "      <td>4.9</td>\n",
       "      <td>2</td>\n",
       "      <td>Yes</td>\n",
       "    </tr>\n",
       "    <tr>\n",
       "      <th>8</th>\n",
       "      <td>ven_09</td>\n",
       "      <td>9</td>\n",
       "      <td>venues</td>\n",
       "      <td>el cerrito</td>\n",
       "      <td>1</td>\n",
       "      <td>prod_009</td>\n",
       "      <td>9000.0</td>\n",
       "      <td>5.0</td>\n",
       "      <td>2</td>\n",
       "      <td>Yes</td>\n",
       "    </tr>\n",
       "    <tr>\n",
       "      <th>9</th>\n",
       "      <td>ven_10</td>\n",
       "      <td>9</td>\n",
       "      <td>venues</td>\n",
       "      <td>san mateo</td>\n",
       "      <td>1</td>\n",
       "      <td>prod_010</td>\n",
       "      <td>4500.0</td>\n",
       "      <td>5.0</td>\n",
       "      <td>2</td>\n",
       "      <td>Yes</td>\n",
       "    </tr>\n",
       "  </tbody>\n",
       "</table>\n",
       "</div>"
      ],
      "text/plain": [
       "  vendor_id  vendor_category_no vendor_depart vendor_location  \\\n",
       "0    ven_01                   9        venues      san ramon    \n",
       "1    ven_02                   9        venues         acampo    \n",
       "2    ven_03                   9        venues      hollister    \n",
       "3    ven_04                   9        venues  half moon bay    \n",
       "4    ven_05                   9        venues  san francisco    \n",
       "5    ven_06                   9        venues     pleasanton    \n",
       "6    ven_07                   9        venues   walnut creek    \n",
       "7    ven_08                   9        venues        oakland    \n",
       "8    ven_09                   9        venues     el cerrito    \n",
       "9    ven_10                   9        venues      san mateo    \n",
       "\n",
       "   vendor_sustainable product_id  price_unit  rating  price_ce  \\\n",
       "0                   1   prod_001     14000.0     4.8         2   \n",
       "1                   1   prod_002      9500.0     4.1         1   \n",
       "2                   1   prod_003     27000.0     4.8         2   \n",
       "3                   1   prod_004     16000.0     4.9         2   \n",
       "4                   1   prod_005     24000.0     4.8         2   \n",
       "5                   1   prod_006     10000.0     4.9         2   \n",
       "6                   1   prod_007     18500.0     0.0         3   \n",
       "7                   0   prod_008     15000.0     4.9         2   \n",
       "8                   1   prod_009      9000.0     5.0         2   \n",
       "9                   1   prod_010      4500.0     5.0         2   \n",
       "\n",
       "  Is_cost_effective  \n",
       "0               Yes  \n",
       "1               Yes  \n",
       "2               Yes  \n",
       "3               Yes  \n",
       "4               Yes  \n",
       "5               Yes  \n",
       "6                No  \n",
       "7               Yes  \n",
       "8               Yes  \n",
       "9               Yes  "
      ]
     },
     "execution_count": 54,
     "metadata": {},
     "output_type": "execute_result"
    }
   ],
   "source": [
    "#importing pandas\n",
    "import pandas as pd\n",
    "\n",
    "#storing the path to the dataset\n",
    "file = \"./Business_ analysis_final excel 1.xlsm\"\n",
    "\n",
    "#reading the file into Python through pandas\n",
    "analysis=pd.read_excel(io = file)\n",
    "\n",
    "#checking result\n",
    "analysis.head(n=10)\n",
    "\n",
    "#Note: column 'rating' data was modified to a float type in excel before reading into Python for analysis purposes"
   ]
  },
  {
   "cell_type": "code",
   "execution_count": 58,
   "id": "86ad1cec",
   "metadata": {},
   "outputs": [
    {
     "name": "stdout",
     "output_type": "stream",
     "text": [
      "<class 'pandas.core.frame.DataFrame'>\n",
      "RangeIndex: 850 entries, 0 to 849\n",
      "Data columns (total 10 columns):\n",
      " #   Column              Non-Null Count  Dtype  \n",
      "---  ------              --------------  -----  \n",
      " 0   vendor_id           850 non-null    object \n",
      " 1   vendor_category_no  850 non-null    int64  \n",
      " 2   vendor_depart       850 non-null    object \n",
      " 3   vendor_location     850 non-null    object \n",
      " 4   vendor_sustainable  850 non-null    int64  \n",
      " 5   product_id          850 non-null    object \n",
      " 6   price_unit          850 non-null    float64\n",
      " 7   rating              850 non-null    int32  \n",
      " 8   price_ce            850 non-null    int64  \n",
      " 9   Is_cost_effective   850 non-null    object \n",
      "dtypes: float64(1), int32(1), int64(3), object(5)\n",
      "memory usage: 63.2+ KB\n"
     ]
    }
   ],
   "source": [
    "#analyzing info related to each feature to audit data quality\n",
    "\n",
    "analysis.info(verbose=True)\n",
    "\n",
    "\n"
   ]
  },
  {
   "cell_type": "code",
   "execution_count": 59,
   "id": "08dac99a",
   "metadata": {},
   "outputs": [
    {
     "data": {
      "text/html": [
       "<div>\n",
       "<style scoped>\n",
       "    .dataframe tbody tr th:only-of-type {\n",
       "        vertical-align: middle;\n",
       "    }\n",
       "\n",
       "    .dataframe tbody tr th {\n",
       "        vertical-align: top;\n",
       "    }\n",
       "\n",
       "    .dataframe thead th {\n",
       "        text-align: right;\n",
       "    }\n",
       "</style>\n",
       "<table border=\"1\" class=\"dataframe\">\n",
       "  <thead>\n",
       "    <tr style=\"text-align: right;\">\n",
       "      <th></th>\n",
       "      <th>vendor_id</th>\n",
       "      <th>vendor_category_no</th>\n",
       "      <th>vendor_depart</th>\n",
       "      <th>vendor_location</th>\n",
       "      <th>vendor_sustainable</th>\n",
       "      <th>product_id</th>\n",
       "      <th>price_unit</th>\n",
       "      <th>rating</th>\n",
       "      <th>price_ce</th>\n",
       "      <th>Is_cost_effective</th>\n",
       "    </tr>\n",
       "  </thead>\n",
       "  <tbody>\n",
       "    <tr>\n",
       "      <th>0</th>\n",
       "      <td>ven_01</td>\n",
       "      <td>9</td>\n",
       "      <td>venues</td>\n",
       "      <td>san ramon</td>\n",
       "      <td>1</td>\n",
       "      <td>prod_001</td>\n",
       "      <td>14000.0</td>\n",
       "      <td>4.8</td>\n",
       "      <td>2</td>\n",
       "      <td>Yes</td>\n",
       "    </tr>\n",
       "    <tr>\n",
       "      <th>1</th>\n",
       "      <td>ven_02</td>\n",
       "      <td>9</td>\n",
       "      <td>venues</td>\n",
       "      <td>acampo</td>\n",
       "      <td>1</td>\n",
       "      <td>prod_002</td>\n",
       "      <td>9500.0</td>\n",
       "      <td>4.1</td>\n",
       "      <td>1</td>\n",
       "      <td>Yes</td>\n",
       "    </tr>\n",
       "    <tr>\n",
       "      <th>2</th>\n",
       "      <td>ven_03</td>\n",
       "      <td>9</td>\n",
       "      <td>venues</td>\n",
       "      <td>hollister</td>\n",
       "      <td>1</td>\n",
       "      <td>prod_003</td>\n",
       "      <td>27000.0</td>\n",
       "      <td>4.8</td>\n",
       "      <td>2</td>\n",
       "      <td>Yes</td>\n",
       "    </tr>\n",
       "    <tr>\n",
       "      <th>3</th>\n",
       "      <td>ven_04</td>\n",
       "      <td>9</td>\n",
       "      <td>venues</td>\n",
       "      <td>half moon bay</td>\n",
       "      <td>1</td>\n",
       "      <td>prod_004</td>\n",
       "      <td>16000.0</td>\n",
       "      <td>4.9</td>\n",
       "      <td>2</td>\n",
       "      <td>Yes</td>\n",
       "    </tr>\n",
       "    <tr>\n",
       "      <th>4</th>\n",
       "      <td>ven_05</td>\n",
       "      <td>9</td>\n",
       "      <td>venues</td>\n",
       "      <td>san francisco</td>\n",
       "      <td>1</td>\n",
       "      <td>prod_005</td>\n",
       "      <td>24000.0</td>\n",
       "      <td>4.8</td>\n",
       "      <td>2</td>\n",
       "      <td>Yes</td>\n",
       "    </tr>\n",
       "  </tbody>\n",
       "</table>\n",
       "</div>"
      ],
      "text/plain": [
       "  vendor_id  vendor_category_no vendor_depart vendor_location  \\\n",
       "0    ven_01                   9        venues      san ramon    \n",
       "1    ven_02                   9        venues         acampo    \n",
       "2    ven_03                   9        venues      hollister    \n",
       "3    ven_04                   9        venues  half moon bay    \n",
       "4    ven_05                   9        venues  san francisco    \n",
       "\n",
       "   vendor_sustainable product_id  price_unit  rating  price_ce  \\\n",
       "0                   1   prod_001     14000.0     4.8         2   \n",
       "1                   1   prod_002      9500.0     4.1         1   \n",
       "2                   1   prod_003     27000.0     4.8         2   \n",
       "3                   1   prod_004     16000.0     4.9         2   \n",
       "4                   1   prod_005     24000.0     4.8         2   \n",
       "\n",
       "  Is_cost_effective  \n",
       "0               Yes  \n",
       "1               Yes  \n",
       "2               Yes  \n",
       "3               Yes  \n",
       "4               Yes  "
      ]
     },
     "execution_count": 59,
     "metadata": {},
     "output_type": "execute_result"
    }
   ],
   "source": [
    "# As rating column is in int which has been converted into float\n",
    "\n",
    "#converting data types with a dictionary\n",
    "datatypes={\"rating\":float}\n",
    "\n",
    "#instantiating the dataset as an object\n",
    "analysis=pd.read_excel(io = file,\n",
    "                      dtype=datatypes)# applying new data types \n",
    "\n",
    "#displaying 5 rows of the modified table\n",
    "analysis.head(n=5)\n"
   ]
  },
  {
   "cell_type": "markdown",
   "id": "977407bd",
   "metadata": {},
   "source": [
    "**Descriptive Statistics**"
   ]
  },
  {
   "cell_type": "code",
   "execution_count": 20,
   "id": "fa8ca93f",
   "metadata": {},
   "outputs": [
    {
     "data": {
      "text/html": [
       "<div>\n",
       "<style scoped>\n",
       "    .dataframe tbody tr th:only-of-type {\n",
       "        vertical-align: middle;\n",
       "    }\n",
       "\n",
       "    .dataframe tbody tr th {\n",
       "        vertical-align: top;\n",
       "    }\n",
       "\n",
       "    .dataframe thead th {\n",
       "        text-align: right;\n",
       "    }\n",
       "</style>\n",
       "<table border=\"1\" class=\"dataframe\">\n",
       "  <thead>\n",
       "    <tr style=\"text-align: right;\">\n",
       "      <th></th>\n",
       "      <th>price_unit</th>\n",
       "      <th>rating</th>\n",
       "    </tr>\n",
       "  </thead>\n",
       "  <tbody>\n",
       "    <tr>\n",
       "      <th>count</th>\n",
       "      <td>850.00</td>\n",
       "      <td>850.00</td>\n",
       "    </tr>\n",
       "    <tr>\n",
       "      <th>mean</th>\n",
       "      <td>1334.60</td>\n",
       "      <td>3.82</td>\n",
       "    </tr>\n",
       "    <tr>\n",
       "      <th>std</th>\n",
       "      <td>3820.44</td>\n",
       "      <td>1.98</td>\n",
       "    </tr>\n",
       "    <tr>\n",
       "      <th>min</th>\n",
       "      <td>0.52</td>\n",
       "      <td>0.00</td>\n",
       "    </tr>\n",
       "    <tr>\n",
       "      <th>25%</th>\n",
       "      <td>90.00</td>\n",
       "      <td>4.00</td>\n",
       "    </tr>\n",
       "    <tr>\n",
       "      <th>50%</th>\n",
       "      <td>175.00</td>\n",
       "      <td>4.90</td>\n",
       "    </tr>\n",
       "    <tr>\n",
       "      <th>75%</th>\n",
       "      <td>400.00</td>\n",
       "      <td>5.00</td>\n",
       "    </tr>\n",
       "    <tr>\n",
       "      <th>max</th>\n",
       "      <td>32000.00</td>\n",
       "      <td>5.00</td>\n",
       "    </tr>\n",
       "  </tbody>\n",
       "</table>\n",
       "</div>"
      ],
      "text/plain": [
       "       price_unit  rating\n",
       "count      850.00  850.00\n",
       "mean      1334.60    3.82\n",
       "std       3820.44    1.98\n",
       "min          0.52    0.00\n",
       "25%         90.00    4.00\n",
       "50%        175.00    4.90\n",
       "75%        400.00    5.00\n",
       "max      32000.00    5.00"
      ]
     },
     "execution_count": 20,
     "metadata": {},
     "output_type": "execute_result"
    }
   ],
   "source": [
    "#Analyzing using Descriptive statistics on numeric column\n",
    "Descriptive_statistics = analysis.describe(include='number').round(decimals=2)\n",
    "\n",
    "#slicing only two column for comparision\n",
    "Descriptive_statistics[ ['price_unit','rating'] ]\n",
    "\n",
    "#Below data shows Mean, Standard deviation, min/max and quantile values for field Price_unit and Vendor ratings"
   ]
  },
  {
   "cell_type": "code",
   "execution_count": 56,
   "id": "5ecb22c6",
   "metadata": {},
   "outputs": [
    {
     "data": {
      "text/plain": [
       "vendor_depart\n",
       "hair and makeup     391\n",
       "catering            103\n",
       "venues               50\n",
       "jewelry              50\n",
       "invitations          50\n",
       "dress and attire     50\n",
       "photo and video      49\n",
       "flowers              42\n",
       "music                35\n",
       "rental               30\n",
       "Name: count, dtype: int64"
      ]
     },
     "execution_count": 56,
     "metadata": {},
     "output_type": "execute_result"
    }
   ],
   "source": [
    "#apply value_counts to vendor_depart for analysisng the number of vendors in each department/category\n",
    "\n",
    "analysis[\"vendor_depart\"].value_counts(normalize = False , #percentage\n",
    "                sort      = True,                          #sort by frequency\n",
    "                ascending = False).round(decimals = 2)     #smallest value?\n",
    "                                  "
   ]
  },
  {
   "cell_type": "code",
   "execution_count": 32,
   "id": "d82143ed",
   "metadata": {},
   "outputs": [
    {
     "name": "stdout",
     "output_type": "stream",
     "text": [
      "Mean price unit: \n",
      "\n",
      "vendor_sustainable\n",
      "0     710.25\n",
      "1    1894.85\n",
      "Name: price_unit, dtype: float64\n",
      "\n",
      "Std.dev price unit: \n",
      "\n",
      "vendor_sustainable\n",
      "0    2242.1\n",
      "1    4748.4\n",
      "Name: price_unit, dtype: float64\n"
     ]
    }
   ],
   "source": [
    "#using group by function filtering the data for sustainable and price\n",
    "\n",
    "Grouping = analysis.groupby('vendor_sustainable')['price_unit']\n",
    "\n",
    "# Calculate mean and standard deviation for both Sustaniable Vendors (1) and non-sustainable vendors (0), and rounded to 2 decimals\n",
    "Mean_price_unit = Grouping.mean().round(decimals=2)\n",
    "Std_dev_price_unit = Grouping.std().round(decimals=2)\n",
    "\n",
    "\n",
    "print(\"Mean price unit: \\n\")\n",
    "print(Mean_price_unit)\n",
    "\n",
    "print(\"\\nStd.dev price unit: \\n\")\n",
    "print(Std_dev_price_unit)"
   ]
  },
  {
   "cell_type": "markdown",
   "id": "8d110ed8",
   "metadata": {},
   "source": [
    "It appears that mean of Price quoted by non-sustainable vendors are significantly lower compared to mean of price quoted by sustainable vendors, and standard deviation of price for non-sustainable vendors are lower to sustainable vendors"
   ]
  },
  {
   "cell_type": "code",
   "execution_count": 33,
   "id": "dfa5c9b5",
   "metadata": {},
   "outputs": [
    {
     "data": {
      "text/plain": [
       "vendor_sustainable\n",
       "1    0.527\n",
       "0    0.473\n",
       "Name: proportion, dtype: float64"
      ]
     },
     "execution_count": 33,
     "metadata": {},
     "output_type": "execute_result"
    }
   ],
   "source": [
    "#apply value_counts to vendor_sustainable for finding the percentage of sustainable and non sustainable vendors\n",
    "\n",
    "analysis[\"vendor_sustainable\"].value_counts(normalize = True ,  \n",
    "                sort      = False,\n",
    "                ascending = False).round(decimals = 3)"
   ]
  },
  {
   "cell_type": "markdown",
   "id": "60563583",
   "metadata": {},
   "source": [
    "Indicates the total number of data recorded between both vendor groups, and found 52.7 % of data recorded are for sustainable vendors"
   ]
  },
  {
   "cell_type": "markdown",
   "id": "f0d936e9",
   "metadata": {},
   "source": [
    "**Liner Pearson**"
   ]
  },
  {
   "cell_type": "code",
   "execution_count": 39,
   "id": "1e63d6cf",
   "metadata": {},
   "outputs": [
    {
     "data": {
      "text/html": [
       "<div>\n",
       "<style scoped>\n",
       "    .dataframe tbody tr th:only-of-type {\n",
       "        vertical-align: middle;\n",
       "    }\n",
       "\n",
       "    .dataframe tbody tr th {\n",
       "        vertical-align: top;\n",
       "    }\n",
       "\n",
       "    .dataframe thead th {\n",
       "        text-align: right;\n",
       "    }\n",
       "</style>\n",
       "<table border=\"1\" class=\"dataframe\">\n",
       "  <thead>\n",
       "    <tr style=\"text-align: right;\">\n",
       "      <th></th>\n",
       "      <th>vendor_category_no</th>\n",
       "      <th>vendor_sustainable</th>\n",
       "      <th>price_unit</th>\n",
       "      <th>rating</th>\n",
       "      <th>price_ce</th>\n",
       "    </tr>\n",
       "  </thead>\n",
       "  <tbody>\n",
       "    <tr>\n",
       "      <th>vendor_category_no</th>\n",
       "      <td>1.00</td>\n",
       "      <td>0.05</td>\n",
       "      <td>0.45</td>\n",
       "      <td>0.34</td>\n",
       "      <td>-0.08</td>\n",
       "    </tr>\n",
       "    <tr>\n",
       "      <th>vendor_sustainable</th>\n",
       "      <td>0.05</td>\n",
       "      <td>1.00</td>\n",
       "      <td>0.15</td>\n",
       "      <td>0.01</td>\n",
       "      <td>0.12</td>\n",
       "    </tr>\n",
       "    <tr>\n",
       "      <th>price_unit</th>\n",
       "      <td>0.45</td>\n",
       "      <td>0.15</td>\n",
       "      <td>1.00</td>\n",
       "      <td>0.06</td>\n",
       "      <td>0.13</td>\n",
       "    </tr>\n",
       "    <tr>\n",
       "      <th>rating</th>\n",
       "      <td>0.34</td>\n",
       "      <td>0.01</td>\n",
       "      <td>0.06</td>\n",
       "      <td>1.00</td>\n",
       "      <td>-0.06</td>\n",
       "    </tr>\n",
       "    <tr>\n",
       "      <th>price_ce</th>\n",
       "      <td>-0.08</td>\n",
       "      <td>0.12</td>\n",
       "      <td>0.13</td>\n",
       "      <td>-0.06</td>\n",
       "      <td>1.00</td>\n",
       "    </tr>\n",
       "  </tbody>\n",
       "</table>\n",
       "</div>"
      ],
      "text/plain": [
       "                    vendor_category_no  vendor_sustainable  price_unit  \\\n",
       "vendor_category_no                1.00                0.05        0.45   \n",
       "vendor_sustainable                0.05                1.00        0.15   \n",
       "price_unit                        0.45                0.15        1.00   \n",
       "rating                            0.34                0.01        0.06   \n",
       "price_ce                         -0.08                0.12        0.13   \n",
       "\n",
       "                    rating  price_ce  \n",
       "vendor_category_no    0.34     -0.08  \n",
       "vendor_sustainable    0.01      0.12  \n",
       "price_unit            0.06      0.13  \n",
       "rating                1.00     -0.06  \n",
       "price_ce             -0.06      1.00  "
      ]
     },
     "execution_count": 39,
     "metadata": {},
     "output_type": "execute_result"
    }
   ],
   "source": [
    "# Applying linear pearson method  and converting correlation matrix into data frame \n",
    "\n",
    "analysis_correlation = analysis.corr(method = 'pearson',  \n",
    "             min_periods = 150,                   #set to min number of observation\n",
    "             numeric_only =True).round(decimals = 2)\n",
    "#result\n",
    "analysis_correlation"
   ]
  },
  {
   "cell_type": "markdown",
   "id": "f9395610",
   "metadata": {},
   "source": [
    "Assessing the impact of multiple variables on Price quoted by vendor groups. Key factors/variables are found to be category, rating, vendor sustainability, and cost effectiveness of price."
   ]
  },
  {
   "cell_type": "markdown",
   "id": "b0fdc804",
   "metadata": {},
   "source": [
    "**Heatmap  for liner correlation**"
   ]
  },
  {
   "cell_type": "code",
   "execution_count": 40,
   "id": "dd35ee77",
   "metadata": {},
   "outputs": [
    {
     "data": {
      "image/png": "[encoded data removed]",
      "text/plain": [
       "<Figure size 1200x1200 with 2 Axes>"
      ]
     },
     "metadata": {},
     "output_type": "display_data"
    }
   ],
   "source": [
    "#importing package\n",
    "\n",
    "import matplotlib.pyplot as plt   #data visualization\n",
    "import seaborn as sns             #data visualization\n",
    "\n",
    "\n",
    "\n",
    "#specifying a plot size\n",
    "fig, ax = plt.subplots( figsize = (12 , 12) )\n",
    "\n",
    "\n",
    "# developing a heatmap\n",
    "sns.heatmap(data       = analysis_correlation,  # the correlation matrix\n",
    "            cmap       = 'inferno'    ,         # colors\n",
    "            square     = True         ,         # tightening the layout\n",
    "            annot      = True         ,         # should there be numbers in the heatmap\n",
    "            linecolor  = 'black'      ,         # lines between boxes\n",
    "            linewidths = 5.5          )         # how thick should the lines be?\n",
    "\n",
    "\n",
    "# title for heatmap\n",
    "plt.title(label = \"\"\"\n",
    "Linear Correlation Heatmap for wedding vendors\n",
    "\"\"\")\n",
    "\n",
    "\n",
    "#displaying\n",
    "plt.show(block = True)"
   ]
  },
  {
   "cell_type": "markdown",
   "id": "fb5fdc5e",
   "metadata": {},
   "source": [
    "From heat map, it's inferred that the highest impact on price is realized by category (and the reason is valid as a jewelry might be more expensive than a furniture rental) and the rating.\n",
    " \n",
    "A category of a product is unique to a vendor, and sustainability is a vendor characteristics \n",
    "Hence we analyze deeper to verify relation between sustainability and Cost\n",
    "\n",
    "For our analysis, Cost is considered a dependent variable, Product category is considered control variable\n",
    "Vendor sustainability is considered an Independent variable\n",
    "\n",
    "Since there are multiple categories, their impact on cost is identified by performing Analysis of variance (ANOVA)\n",
    "Two-way Anova is performed to find impact of both sustainability and Product categories on Cost"
   ]
  },
  {
   "cell_type": "markdown",
   "id": "80cce40a",
   "metadata": {},
   "source": [
    "**Statistical Test**"
   ]
  },
  {
   "cell_type": "code",
   "execution_count": 43,
   "id": "62a1cce9",
   "metadata": {},
   "outputs": [
    {
     "name": "stdout",
     "output_type": "stream",
     "text": [
      "                                           df        sum_sq       mean_sq  \\\n",
      "C(vendor_sustainable)                     1.0  2.973263e+08  2.973263e+08   \n",
      "C(vendor_depart)                          9.0  8.227607e+09  9.141786e+08   \n",
      "C(vendor_sustainable):C(vendor_depart)    9.0  1.373733e+08  1.526370e+07   \n",
      "Residual                                830.0  3.729491e+09  4.493362e+06   \n",
      "\n",
      "                                                 F         PR(>F)  \n",
      "C(vendor_sustainable)                    66.170112   1.503785e-15  \n",
      "C(vendor_depart)                        203.450893  3.622582e-203  \n",
      "C(vendor_sustainable):C(vendor_depart)    3.396943   4.138350e-04  \n",
      "Residual                                       NaN            NaN  \n",
      "F-value: 3.3969430405836634\n",
      "P-value: 0.0004138350046587462\n",
      "\n",
      " The Analysis Result:\n",
      "\n",
      "\n",
      "        Rejecting null hypothesis. There is a significant difference in cost \n",
      "        between Sustainable Vendor and Non-Sustainable Vendor groups\n"
     ]
    },
    {
     "name": "stderr",
     "output_type": "stream",
     "text": [
      "C:\\Users\\jkart\\AppData\\Local\\Temp\\ipykernel_17952\\2843220875.py:20: FutureWarning: Series.__getitem__ treating keys as positions is deprecated. In a future version, integer keys will always be treated as labels (consistent with DataFrame behavior). To access a value by position, use `ser.iloc[pos]`\n",
      "  F_value = anova_result['F'][2]  # Change index based on your specific data\n",
      "C:\\Users\\jkart\\AppData\\Local\\Temp\\ipykernel_17952\\2843220875.py:21: FutureWarning: Series.__getitem__ treating keys as positions is deprecated. In a future version, integer keys will always be treated as labels (consistent with DataFrame behavior). To access a value by position, use `ser.iloc[pos]`\n",
      "  p_value = anova_result['PR(>F)'][2]  # Change index based on your specific data\n"
     ]
    }
   ],
   "source": [
    "#importing packages\n",
    "\n",
    "from statsmodels.formula.api import ols\n",
    "from statsmodels.stats.anova import anova_lm\n",
    "\n",
    "# Converting 'vendor_sustainbale' and 'department' to a categorical variable\n",
    "\n",
    "analysis['vendor_sustainable'] = pd.Categorical(analysis['vendor_sustainable'])\n",
    "analysis['vendor_depart'] = pd.Categorical(analysis['vendor_depart'])\n",
    "\n",
    "# Two-way ANOVA model\n",
    "anova_test = ols(\"\"\"price_unit ~ C(vendor_sustainable) + C(vendor_depart) \n",
    "                 + C(vendor_sustainable):C(vendor_depart)\"\"\", data=analysis).fit()\n",
    "\n",
    "# Perform ANOVA\n",
    "result = anova_lm(anova_test)\n",
    "\n",
    "# ANOVA result\n",
    "print(result)\n",
    "\n",
    "# F-value and p-value\n",
    "\n",
    "F_value = anova_result['F'][2]  # Change index based on your specific data\n",
    "p_value = anova_result['PR(>F)'][2]  # Change index based on your specific data\n",
    "\n",
    "# Display F-statistic and p-value\n",
    "\n",
    "print(f\"F-value: {F_value}\")\n",
    "print(f\"P-value: {p_value}\")\n",
    "\n",
    "print('\\n The Analysis Result:\\n') \n",
    "\n",
    "#using conditional statement testing the significance using p-value\n",
    "\n",
    "if p_value<0.05:\n",
    "    print(\"\"\"\n",
    "        Rejecting null hypothesis. There is a significant difference in cost \n",
    "        between Sustainable Vendor and Non-Sustainable Vendor groups\"\"\")\n",
    "else:\n",
    "    print(\"\"\"\n",
    "    Failing to reject null hypothesis.There is no significant difference \n",
    "    in cost between Sustainable Vendors and Non-Sustainable Vendors\"\"\")"
   ]
  },
  {
   "cell_type": "markdown",
   "id": "d8ec6fca",
   "metadata": {},
   "source": [
    "For conducting statistical tests, below are considered for Hypothesis testing:\n",
    "\n",
    "Ho:The mean of price between Sustainable and Non-sustainable vendors are equal\n",
    "Ha:The mean of price between Sustainable and Non-sustainable vendors are not equal\n",
    "\n",
    "After analyzing the interactions between two different variables by performing Anova, results show that the p-value is significantly less than 0.05, thus rejecting null Hypothesis.\n",
    "\n",
    "We can now statistically conclude that, the mean of price between sustainable and non-sustainable vendors are not equal, thus indicating difference between both vendor groups.\n",
    "\n",
    "Conducting analysis further to show which vendor group will offer better price indicating cost effectiveness."
   ]
  },
  {
   "cell_type": "markdown",
   "id": "7f2f6c52",
   "metadata": {},
   "source": [
    "**Scatter plot**"
   ]
  },
  {
   "cell_type": "code",
   "execution_count": 48,
   "id": "fa6654e6",
   "metadata": {},
   "outputs": [
    {
     "data": {
      "image/png": "[encoded data removed]",
      "text/plain": [
       "<Figure size 1146.36x500 with 1 Axes>"
      ]
     },
     "metadata": {},
     "output_type": "display_data"
    }
   ],
   "source": [
    "sns.lmplot(x       = 'vendor_category_no' ,    # x-axis feature\n",
    "           y       = 'price_unit' ,            # y-axis feature\n",
    "           hue     = 'vendor_sustainable'    , # categorical data for subsets\n",
    "           scatter = True    ,                 # renders a scatter plot\n",
    "           fit_reg = True    ,                 # renders a regression line\n",
    "           aspect  = 2       ,                 # aspect ratio for plot\n",
    "           data    = analysis)\n",
    "\n",
    "#displaying the visualization\n",
    "plt.title       (label  = \"Regression model for price vs category\")\n",
    "plt.xlabel      (xlabel = \"category\"                              )\n",
    "plt.ylabel      (ylabel = 'Price'                                 )\n",
    "plt.show        (block  = True                                    )\n",
    "\n",
    "\n",
    "\n",
    "\n",
    "\n",
    "\n",
    "\n",
    "\n"
   ]
  },
  {
   "cell_type": "markdown",
   "id": "8bf04423",
   "metadata": {},
   "source": [
    "A scatter plot plotted against price and categories, and differentiated between both vendor groups indicate that prices quoted by sustainable vendors are higher on average compared to non-sustainable vendors.\n",
    "The highest skewness is contributed by the category 'venue' where sustainable vendors were quoting significantly higher.\n",
    "It can also be noted that category 1 = 'dress and attire', both vendor groups were quoting similar prices not resulting in significant difference."
   ]
  },
  {
   "cell_type": "markdown",
   "id": "984e4750",
   "metadata": {},
   "source": [
    "**Box plot**"
   ]
  },
  {
   "cell_type": "code",
   "execution_count": 49,
   "id": "11ac9b07",
   "metadata": {},
   "outputs": [
    {
     "name": "stderr",
     "output_type": "stream",
     "text": [
      "C:\\Users\\jkart\\anaconda3\\Lib\\site-packages\\seaborn\\_oldcore.py:1498: FutureWarning: is_categorical_dtype is deprecated and will be removed in a future version. Use isinstance(dtype, CategoricalDtype) instead\n",
      "  if pd.api.types.is_categorical_dtype(vector):\n",
      "C:\\Users\\jkart\\anaconda3\\Lib\\site-packages\\seaborn\\categorical.py:641: FutureWarning: The default of observed=False is deprecated and will be changed to True in a future version of pandas. Pass observed=False to retain current behavior or observed=True to adopt the future default and silence this warning.\n",
      "  grouped_vals = vals.groupby(grouper)\n"
     ]
    },
    {
     "data": {
      "image/png": "[encoded data removed]",
      "text/plain": [
       "<Figure size 640x480 with 1 Axes>"
      ]
     },
     "metadata": {},
     "output_type": "display_data"
    }
   ],
   "source": [
    "# Creating a box plot for 'price' for the sustainable and  non-sustainable vendors \n",
    "sns.boxplot(x='vendor_sustainable', y='price_unit', data=analysis)\n",
    "\n",
    "#labels and title\n",
    "plt.title(f'Price between Sustainable and Non-Sustainable Vendors')\n",
    "plt.xlabel('Sustainability \\n(0- Non-sustainable Vendors, 1 -Sustainable Vendors)')\n",
    "plt.ylabel('Price')\n",
    "\n",
    "#plot\n",
    "plt.show()\n",
    "\n",
    "\n"
   ]
  },
  {
   "cell_type": "markdown",
   "id": "fefad9a2",
   "metadata": {},
   "source": [
    "Box plot are constructed between prices quoted by both vendor groups, and it can be noted that overall Inter-quartile range for sustainable vendors is larger compared to non-sustainable vendors. The max value for non-sustainable vendors are also lower to sustainable vendors.\n",
    "\n",
    "Above diagram indicates, non-sustainable vendors offering better and more cost effective solution than their non-sustainable counter parts."
   ]
  },
  {
   "cell_type": "markdown",
   "id": "5ed30556",
   "metadata": {},
   "source": [
    "**Histogram**"
   ]
  },
  {
   "cell_type": "code",
   "execution_count": 50,
   "id": "dcf73212",
   "metadata": {},
   "outputs": [
    {
     "data": {
      "image/png": "[encoded data removed]",
      "text/plain": [
       "<Figure size 640x480 with 1 Axes>"
      ]
     },
     "metadata": {},
     "output_type": "display_data"
    },
    {
     "data": {
      "image/png": "[encoded data removed]",
      "text/plain": [
       "<Figure size 640x480 with 1 Axes>"
      ]
     },
     "metadata": {},
     "output_type": "display_data"
    }
   ],
   "source": [
    "#histogram for non sustainable vendors\n",
    "histogram_ns = analysis[analysis['vendor_sustainable'] == 0]\n",
    "\n",
    "plt.hist(histogram_ns['price_ce'], bins=4, color='skyblue', edgecolor='black') \n",
    "\n",
    "#labels and title\n",
    "plt.title('Histogram of cost effectiveness for Non-sustainable Vendors')\n",
    "plt.xlabel('Quantile of Cost effectiveness')\n",
    "plt.ylabel('Frequency')\n",
    "\n",
    "#plot\n",
    "plt.show()\n",
    "\n",
    "#histogram for sustainable vendors\n",
    "\n",
    "histogram_s = analysis[analysis['vendor_sustainable'] == 1]\n",
    "\n",
    "plt.hist(histogram_s['price_ce'], bins=4, color='red', edgecolor='black')  \n",
    "\n",
    "plt.title('Histogram of cost effectiveness for Sustainable Vendors')\n",
    "plt.xlabel('Quantile of Cost effectiveness')\n",
    "plt.ylabel('Frequency')\n",
    "\n",
    "\n",
    "plt.show()"
   ]
  },
  {
   "cell_type": "markdown",
   "id": "f2d68386",
   "metadata": {},
   "source": [
    "Above two Bar-plot is indicates multiple parts/products offered by both vendor groups within the price quantile for overall data. \n",
    "With 1 and 2 quantiles indicating cost effective solutions and, 3 and 4 otherwise, non-sustainable vendors were able to offer higher list of products within the cost effective category (1 and 2 quantiles)."
   ]
  },
  {
   "cell_type": "markdown",
   "id": "6515a660",
   "metadata": {},
   "source": [
    "# Result of Analysis:\n",
    "Statistical test revealed that there is a difference in mean of price within both vendor groups.\n",
    "\n",
    "Above scatter plot, Box plot and Bar-chart clearly explains that the price offered by non-sustainable vendors are significantly cheaper and cost effective than compared to their sustainable counter parts.\n",
    "\n",
    "This evidence strongly indicates that, overall, non-sustainable vendors are more cost-effective than sustainable vendors within this context. Despite the emphasis on sustainability, the data suggests that non-sustainable vendors have a competitive edge in terms of pricing, making them a more economical choice for consumers.\n"
   ]
  },
  {
   "cell_type": "markdown",
   "id": "a2a68cb8",
   "metadata": {},
   "source": [
    "# Actionable Insights\n",
    "\n",
    "Creating cost effectiveness within sustainable vendors compared to non sustainable ones in the wedding business involves strategic planning and innovations. The actionable insights I would recommend is \n",
    "\n",
    "**Economies of scale** refer to cost advantage that can occur when a company increases their scale of production and becomes more efficient,resulting in decreased cost-per unit.Businesses benefit significantly from this. Forming networks for sustainable wedding vendors means creating platforms where they collaborate, share resources, and bargain with suppliers. Negotiating bulk purchases secures discounted rates by leveraging the collective buying power of vendors.(GoCardless, 2020)    \n",
    "\n",
    "\n",
    "**Financial Incentives**Financial incentives, often provided by businesses or organizations, aim to drive particular behaviors or choices. These rewards, given in monetary or non-monetary forms, motivate individuals or groups to align their actions with specific goals. Negotiate reduced prices for sustainable goods in bulk purchases by collaborating with suppliers. Secure lower rates for eco-friendly items when ordering in larger quantities. Offer discounts contingent on meeting sustainability targets, providing refunds if those goals are achieved. (Hugh Bachmann) \n",
    "  \n",
    "Implement these strategies to change the perception, proving that sustainable vendors can be more cost-efficient than non-sustainable ones in the wedding sector.\n"
   ]
  },
  {
   "cell_type": "markdown",
   "id": "b33d0ae8",
   "metadata": {},
   "source": [
    "**References**\n",
    "\n",
    "GoCardless. (2020, May). How your business can benefit from economies of scale.\n",
    "\n",
    "Hugh Bachmann, R. L. (n.d.). The powerful role financial incentives can play in a transformation. Retrieved from https://www.mckinsey.com/capabilities/transformation/our-insights/the-powerful-role-financial-incentives-can-play-in-a-transformation\n",
    "\n",
    "indeed. (2022, june 24). Retrieved from https://www.indeed.com/career-advice/career-development/cost-efficiencies\n",
    "\n",
    "Spiliakos, A. (2022). What Does \"Sustainability\" Mean in Business? Harvard Business School online.\n",
    "\n",
    " https://stackoverflow.com/\n"
   ]
  },
  {
   "cell_type": "code",
   "execution_count": null,
   "id": "5ed1ab05",
   "metadata": {},
   "outputs": [],
   "source": []
  }
 ],
 "metadata": {
  "kernelspec": {
   "display_name": "Python 3 (ipykernel)",
   "language": "python",
   "name": "python3"
  },
  "language_info": {
   "codemirror_mode": {
    "name": "ipython",
    "version": 3
   },
   "file_extension": ".py",
   "mimetype": "text/x-python",
   "name": "python",
   "nbconvert_exporter": "python",
   "pygments_lexer": "ipython3",
   "version": "3.11.5"
  },
  "toc": {
   "base_numbering": 1,
   "nav_menu": {},
   "number_sections": true,
   "sideBar": true,
   "skip_h1_title": false,
   "title_cell": "Table of Contents",
   "title_sidebar": "Contents",
   "toc_cell": false,
   "toc_position": {},
   "toc_section_display": true,
   "toc_window_display": false
  },
  "varInspector": {
   "cols": {
    "lenName": 16,
    "lenType": 16,
    "lenVar": 40
   },
   "kernels_config": {
    "python": {
     "delete_cmd_postfix": "",
     "delete_cmd_prefix": "del ",
     "library": "var_list.py",
     "varRefreshCmd": "print(var_dic_list())"
    },
    "r": {
     "delete_cmd_postfix": ") ",
     "delete_cmd_prefix": "rm(",
     "library": "var_list.r",
     "varRefreshCmd": "cat(var_dic_list()) "
    }
   },
   "types_to_exclude": [
    "module",
    "function",
    "builtin_function_or_method",
    "instance",
    "_Feature"
   ],
   "window_display": false
  }
 },
 "nbformat": 4,
 "nbformat_minor": 5
}
